{
 "cells": [
  {
   "cell_type": "code",
   "execution_count": 1,
   "metadata": {},
   "outputs": [],
   "source": [
    "# imports\n",
    "import pandas as pd\n",
    "import numpy as np \n",
    "import os\n",
    "import sys\n",
    "\n",
    "# update Python path\n",
    "sys.path.append(\"/Users/atlanticroc/atlantida/loyalty101/\")\n",
    "os.chdir(\"/Users/atlanticroc/atlantida/loyalty101/\")\n",
    "\n",
    "# modules\n",
    "from src.data import io\n",
    "\n",
    "# constants\n",
    "from src.constants import RAW_DATA_PATH"
   ]
  },
  {
   "cell_type": "markdown",
   "metadata": {},
   "source": [
    "## User journey"
   ]
  },
  {
   "cell_type": "markdown",
   "metadata": {},
   "source": [
    "### Load raw data in the application"
   ]
  },
  {
   "cell_type": "code",
   "execution_count": 2,
   "metadata": {},
   "outputs": [
    {
     "name": "stderr",
     "output_type": "stream",
     "text": [
      "Setting default log level to \"WARN\".\n",
      "To adjust logging level use sc.setLogLevel(newLevel). For SparkR, use setLogLevel(newLevel).\n"
     ]
    },
    {
     "name": "stdout",
     "output_type": "stream",
     "text": [
      "22/12/16 23:30:52 WARN NativeCodeLoader: Unable to load native-hadoop library for your platform... using builtin-java classes where applicable\n"
     ]
    },
    {
     "name": "stderr",
     "output_type": "stream",
     "text": [
      "                                                                                \r"
     ]
    },
    {
     "name": "stdout",
     "output_type": "stream",
     "text": [
      "+-------+---------+--------------------+--------+-------------------+-----+-----------+--------------+\n",
      "|Invoice|StockCode|         Description|Quantity|        InvoiceDate|Price|Customer ID|       Country|\n",
      "+-------+---------+--------------------+--------+-------------------+-----+-----------+--------------+\n",
      "| 489434|    85048|15CM CHRISTMAS GL...|      12|2009-12-01 07:45:00| 6.95|    13085.0|United Kingdom|\n",
      "| 489434|   79323P|  PINK CHERRY LIGHTS|      12|2009-12-01 07:45:00| 6.75|    13085.0|United Kingdom|\n",
      "| 489434|   79323W| WHITE CHERRY LIGHTS|      12|2009-12-01 07:45:00| 6.75|    13085.0|United Kingdom|\n",
      "| 489434|    22041|\"RECORD FRAME 7\"\"...|      48|2009-12-01 07:45:00|  2.1|    13085.0|United Kingdom|\n",
      "| 489434|    21232|STRAWBERRY CERAMI...|      24|2009-12-01 07:45:00| 1.25|    13085.0|United Kingdom|\n",
      "| 489434|    22064|PINK DOUGHNUT TRI...|      24|2009-12-01 07:45:00| 1.65|    13085.0|United Kingdom|\n",
      "| 489434|    21871| SAVE THE PLANET MUG|      24|2009-12-01 07:45:00| 1.25|    13085.0|United Kingdom|\n",
      "| 489434|    21523|FANCY FONT HOME S...|      10|2009-12-01 07:45:00| 5.95|    13085.0|United Kingdom|\n",
      "| 489435|    22350|           CAT BOWL |      12|2009-12-01 07:46:00| 2.55|    13085.0|United Kingdom|\n",
      "| 489435|    22349|DOG BOWL , CHASIN...|      12|2009-12-01 07:46:00| 3.75|    13085.0|United Kingdom|\n",
      "| 489435|    22195|HEART MEASURING S...|      24|2009-12-01 07:46:00| 1.65|    13085.0|United Kingdom|\n",
      "| 489435|    22353|LUNCHBOX WITH CUT...|      12|2009-12-01 07:46:00| 2.55|    13085.0|United Kingdom|\n",
      "| 489436|   48173C|DOOR MAT BLACK FL...|      10|2009-12-01 09:06:00| 5.95|    13078.0|United Kingdom|\n",
      "| 489436|    21755|LOVE BUILDING BLO...|      18|2009-12-01 09:06:00| 5.45|    13078.0|United Kingdom|\n",
      "| 489436|    21754|HOME BUILDING BLO...|       3|2009-12-01 09:06:00| 5.95|    13078.0|United Kingdom|\n",
      "| 489436|    84879|ASSORTED COLOUR B...|      16|2009-12-01 09:06:00| 1.69|    13078.0|United Kingdom|\n",
      "| 489436|    22119| PEACE WOODEN BLO...|       3|2009-12-01 09:06:00| 6.95|    13078.0|United Kingdom|\n",
      "| 489436|    22142|CHRISTMAS CRAFT W...|      12|2009-12-01 09:06:00| 1.45|    13078.0|United Kingdom|\n",
      "| 489436|    22296|HEART IVORY TRELL...|      12|2009-12-01 09:06:00| 1.65|    13078.0|United Kingdom|\n",
      "| 489436|    22295|HEART FILIGREE DO...|      12|2009-12-01 09:06:00| 1.65|    13078.0|United Kingdom|\n",
      "+-------+---------+--------------------+--------+-------------------+-----+-----------+--------------+\n",
      "only showing top 20 rows\n",
      "\n"
     ]
    }
   ],
   "source": [
    "# load raw data\n",
    "loader = io.SparkDataLoader()\n",
    "fileName = \"rawData.csv\"\n",
    "filePath = os.path.join(RAW_DATA_PATH,fileName)\n",
    "raw = loader.load_csv(filePath)\n",
    "\n",
    "raw.show()\n"
   ]
  },
  {
   "cell_type": "code",
   "execution_count": 3,
   "metadata": {},
   "outputs": [
    {
     "name": "stdout",
     "output_type": "stream",
     "text": [
      "+---------+-------+--------------------+------+-------------------+--------+----------+--------------+------------------+\n",
      "|invoiceId|skuCode|      skuDescription|skuQty|        InvoiceDate|skuPrice|customerId|       country|       salesAmount|\n",
      "+---------+-------+--------------------+------+-------------------+--------+----------+--------------+------------------+\n",
      "|   489434|  85048|15CM CHRISTMAS GL...|  12.0|2009-12-01 07:45:00|    6.95|     13085|United Kingdom|              83.4|\n",
      "|   489434| 79323P|  PINK CHERRY LIGHTS|  12.0|2009-12-01 07:45:00|    6.75|     13085|United Kingdom|              81.0|\n",
      "|   489434| 79323W| WHITE CHERRY LIGHTS|  12.0|2009-12-01 07:45:00|    6.75|     13085|United Kingdom|              81.0|\n",
      "|   489434|  22041|\"RECORD FRAME 7\"\"...|  48.0|2009-12-01 07:45:00|     2.1|     13085|United Kingdom|100.80000000000001|\n",
      "|   489434|  21232|STRAWBERRY CERAMI...|  24.0|2009-12-01 07:45:00|    1.25|     13085|United Kingdom|              30.0|\n",
      "|   489434|  22064|PINK DOUGHNUT TRI...|  24.0|2009-12-01 07:45:00|    1.65|     13085|United Kingdom|39.599999999999994|\n",
      "|   489434|  21871| SAVE THE PLANET MUG|  24.0|2009-12-01 07:45:00|    1.25|     13085|United Kingdom|              30.0|\n",
      "|   489434|  21523|FANCY FONT HOME S...|  10.0|2009-12-01 07:45:00|    5.95|     13085|United Kingdom|              59.5|\n",
      "|   489435|  22350|           CAT BOWL |  12.0|2009-12-01 07:46:00|    2.55|     13085|United Kingdom|30.599999999999998|\n",
      "|   489435|  22349|DOG BOWL , CHASIN...|  12.0|2009-12-01 07:46:00|    3.75|     13085|United Kingdom|              45.0|\n",
      "|   489435|  22195|HEART MEASURING S...|  24.0|2009-12-01 07:46:00|    1.65|     13085|United Kingdom|39.599999999999994|\n",
      "|   489435|  22353|LUNCHBOX WITH CUT...|  12.0|2009-12-01 07:46:00|    2.55|     13085|United Kingdom|30.599999999999998|\n",
      "|   489436| 48173C|DOOR MAT BLACK FL...|  10.0|2009-12-01 09:06:00|    5.95|     13078|United Kingdom|              59.5|\n",
      "|   489436|  21755|LOVE BUILDING BLO...|  18.0|2009-12-01 09:06:00|    5.45|     13078|United Kingdom| 98.10000000000001|\n",
      "|   489436|  21754|HOME BUILDING BLO...|   3.0|2009-12-01 09:06:00|    5.95|     13078|United Kingdom|             17.85|\n",
      "|   489436|  84879|ASSORTED COLOUR B...|  16.0|2009-12-01 09:06:00|    1.69|     13078|United Kingdom|             27.04|\n",
      "|   489436|  22119| PEACE WOODEN BLO...|   3.0|2009-12-01 09:06:00|    6.95|     13078|United Kingdom|             20.85|\n",
      "|   489436|  22142|CHRISTMAS CRAFT W...|  12.0|2009-12-01 09:06:00|    1.45|     13078|United Kingdom|              17.4|\n",
      "|   489436|  22296|HEART IVORY TRELL...|  12.0|2009-12-01 09:06:00|    1.65|     13078|United Kingdom|19.799999999999997|\n",
      "|   489436|  22295|HEART FILIGREE DO...|  12.0|2009-12-01 09:06:00|    1.65|     13078|United Kingdom|19.799999999999997|\n",
      "+---------+-------+--------------------+------+-------------------+--------+----------+--------------+------------------+\n",
      "only showing top 20 rows\n",
      "\n"
     ]
    }
   ],
   "source": [
    "# transform raw data\n",
    "transformer = io.SparkDataTransformer()\n",
    "rawModified = transformer.transform_raw(raw)\n",
    "\n",
    "rawModified.show()"
   ]
  }
 ],
 "metadata": {
  "kernelspec": {
   "display_name": "Python 3.8.8 ('venv': venv)",
   "language": "python",
   "name": "python3"
  },
  "language_info": {
   "codemirror_mode": {
    "name": "ipython",
    "version": 3
   },
   "file_extension": ".py",
   "mimetype": "text/x-python",
   "name": "python",
   "nbconvert_exporter": "python",
   "pygments_lexer": "ipython3",
   "version": "3.8.8"
  },
  "orig_nbformat": 4,
  "vscode": {
   "interpreter": {
    "hash": "1b8994e4cac90d086113ab6498898b0371165dfc8ca1c64f1be5e26eeb5f9bb7"
   }
  }
 },
 "nbformat": 4,
 "nbformat_minor": 2
}
